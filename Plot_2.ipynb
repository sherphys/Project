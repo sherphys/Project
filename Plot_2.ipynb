{
 "cells": [
  {
   "cell_type": "code",
   "execution_count": 3,
   "metadata": {},
   "outputs": [
    {
     "data": {
      "text/html": [
       "\n",
       "        <script>\n",
       "            function code_toggle_4676055563245056322() {\n",
       "                $('div.cell.code_cell.rendered.selected').find('div.input').toggle();\n",
       "            }\n",
       "\n",
       "            \n",
       "        </script>\n",
       "        \n",
       "        <form action=\"javascript:code_toggle_4676055563245056322()\"><input type=\"submit\" value=\"Toggle show/hide cell ↑\"></form>\n",
       "    "
      ],
      "text/plain": [
       "<IPython.core.display.HTML object>"
      ]
     },
     "execution_count": 3,
     "metadata": {},
     "output_type": "execute_result"
    }
   ],
   "source": [
    "from IPython.display import HTML\n",
    "import random\n",
    "\n",
    "def hide_toggle(for_next=False):\n",
    "    this_cell = \"\"\"$('div.cell.code_cell.rendered.selected')\"\"\"\n",
    "    next_cell = this_cell + '.next()'\n",
    "\n",
    "    toggle_text = 'Toggle show/hide cell ↑'  # text shown on toggle link\n",
    "    target_cell = this_cell  # target cell to control with toggle\n",
    "    js_hide_current = ''  # bit of JS to permanently hide code in current cell (only when toggling next cell)\n",
    "\n",
    "    if for_next:\n",
    "        target_cell = next_cell\n",
    "        toggle_text =  toggle_text.rstrip(\"↑\")+\"↓\"\n",
    "        js_hide_current = this_cell + '.find(\"div.input\").hide();'\n",
    "\n",
    "    js_f_name = 'code_toggle_{}'.format(str(random.randint(1,2**64)))\n",
    "\n",
    "    html = \"\"\"\n",
    "        <script>\n",
    "            function {f_name}() {{\n",
    "                {cell_selector}.find('div.input').toggle();\n",
    "            }}\n",
    "\n",
    "            {js_hide_current}\n",
    "        </script>\n",
    "        \n",
    "        <form action=\"javascript:{f_name}()\"><input type=\"submit\" value=\"{toggle_text}\"></form>\n",
    "    \"\"\".format(\n",
    "        f_name=js_f_name,\n",
    "        cell_selector=target_cell,\n",
    "        js_hide_current=js_hide_current, \n",
    "        toggle_text=toggle_text\n",
    "    )\n",
    "\n",
    "    return HTML(html)\n",
    "\n",
    "hide_toggle()"
   ]
  },
  {
   "cell_type": "code",
   "execution_count": 4,
   "metadata": {},
   "outputs": [
    {
     "data": {
      "text/html": [
       "\n",
       "        <script>\n",
       "            function code_toggle_15976522146118676056() {\n",
       "                $('div.cell.code_cell.rendered.selected').find('div.input').toggle();\n",
       "            }\n",
       "\n",
       "            \n",
       "        </script>\n",
       "        \n",
       "        <form action=\"javascript:code_toggle_15976522146118676056()\"><input type=\"submit\" value=\"Toggle show/hide cell ↑\"></form>\n",
       "    "
      ],
      "text/plain": [
       "<IPython.core.display.HTML object>"
      ]
     },
     "execution_count": 4,
     "metadata": {},
     "output_type": "execute_result"
    }
   ],
   "source": [
    "import os\n",
    "from skimage.measure  import shannon_entropy\n",
    "\n",
    "import matplotlib.pyplot as plt\n",
    "import numpy as np\n",
    "import cv2\n",
    "import imageio\n",
    "import numpy as np\n",
    "import pandas as pd\n",
    "from sklearn.utils import shuffle\n",
    "from scipy import sparse\n",
    "import json\n",
    "import time\n",
    "\n",
    "%matplotlib inline\n",
    "\n",
    "def strokes_to_image(strokes, shape=(256,256)):\n",
    "    image = np.ones(shape, dtype=np.uint8)\n",
    "    x_strokes=strokes[0]\n",
    "    y_strokes=strokes[1]\n",
    "    for i in range(0,len(x_strokes)):\n",
    "        x_pts=np.array(x_strokes[i],dtype=np.int)\n",
    "        y_pts=np.array(y_strokes[i],dtype=np.int)\n",
    "        for idx in range(0,len(x_pts)-1):\n",
    "            cv2.line(image, (x_pts[idx], y_pts[idx]), (x_pts[idx+1], y_pts[idx+1]), color=(255), thickness=1)\n",
    "    kernel = np.ones((5,5),np.uint8)\n",
    "    image = cv2.dilate(image,kernel,iterations = 1)\n",
    "    image = cv2.resize(image, shape)\n",
    "    return image\n",
    "\n",
    "def csv_file_to_strokes(data_dir, csv_file, index_col='key_id', select_cols = ['drawing','recognized'],\n",
    "):\n",
    "    sparse_image_strokes = []\n",
    "    sparse_image_points = []\n",
    "    \n",
    "    drawings_f = pd.read_csv(data_dir + csv_file, index_col=index_col)[select_cols]   \n",
    "    \n",
    "    try:\n",
    "        drawings_f = drawings_f[drawings_f['recognized']]\n",
    "    except:\n",
    "        drawings_f = drawings_f\n",
    "        \n",
    "    len_draw   = drawings_f.shape[0]\n",
    "\n",
    "    unique_labels = (csv_file.rstrip(\"v\").rstrip(\"s\").rstrip(\"c\").rstrip(\".\"))\n",
    "    for i in range(len_draw):\n",
    "        buffer = json.loads(drawings_f.iloc[i]['drawing'])\n",
    "        strokes = [[stroke[0] for stroke in buffer],[stroke[1] for stroke in buffer]]\n",
    "        vector = [0,0]\n",
    "        vector[0] = sum(strokes[0],[])\n",
    "        vector[1] = sum(strokes[1],[])\n",
    "        sparse_image_strokes.append(strokes)\n",
    "        sparse_image_points.append(vector)\n",
    "            \n",
    "    return sparse_image_strokes, sparse_image_points, unique_labels\n",
    "\n",
    "def entropy(points, inter=5):\n",
    "    limits = []\n",
    "    ratios = [np.hypot(np.array(points[i][0]),np.array(points[i][1])) for i in range(len(points))]\n",
    "    entropy  = np.array([shannon_entropy(ratio,2) for ratio in ratios])\n",
    "    return entropy\n",
    "\n",
    "hide_toggle()"
   ]
  },
  {
   "cell_type": "code",
   "execution_count": 25,
   "metadata": {},
   "outputs": [
    {
     "data": {
      "text/html": [
       "\n",
       "        <script>\n",
       "            function code_toggle_10646262015010828178() {\n",
       "                $('div.cell.code_cell.rendered.selected').find('div.input').toggle();\n",
       "            }\n",
       "\n",
       "            \n",
       "        </script>\n",
       "        \n",
       "        <form action=\"javascript:code_toggle_10646262015010828178()\"><input type=\"submit\" value=\"Toggle show/hide cell ↑\"></form>\n",
       "    "
      ],
      "text/plain": [
       "<IPython.core.display.HTML object>"
      ]
     },
     "execution_count": 25,
     "metadata": {},
     "output_type": "execute_result"
    }
   ],
   "source": [
    "data_dir='./'\n",
    "strokes_label, points_label, label = csv_file_to_strokes(data_dir,'piano.csv',select_cols=['drawing'])\n",
    "entropy_label = entropy(points_label)\n",
    "\n",
    "strokes_label2, points_label2, label2 = csv_file_to_strokes(data_dir,'circle.csv',select_cols=['drawing'])\n",
    "entropy_label2 = entropy(points_label2)\n",
    "\n",
    "strokes_label3, points_label3, label3 = csv_file_to_strokes(data_dir,'hedgehog.csv',select_cols=['drawing'])\n",
    "entropy_label3 = entropy(points_label3)\n",
    "\n",
    "hide_toggle()"
   ]
  },
  {
   "cell_type": "code",
   "execution_count": 29,
   "metadata": {},
   "outputs": [
    {
     "data": {
      "image/png": "[encoded data removed]",
      "text/plain": [
       "<Figure size 1152x576 with 3 Axes>"
      ]
     },
     "metadata": {
      "needs_background": "light"
     },
     "output_type": "display_data"
    },
    {
     "data": {
      "text/plain": [
       "<Figure size 432x288 with 0 Axes>"
      ]
     },
     "metadata": {},
     "output_type": "display_data"
    }
   ],
   "source": [
    "plt.figure(\"Entropy distribution\",figsize=(16,8))\n",
    "plt.subplots_adjust(hspace=1.0)\n",
    "\n",
    "plt.subplot(3,1,1)\n",
    "plt.title(\"Histogram entropy: \"+ label,fontsize=16)\n",
    "plt.hist(entropy_label, bins='auto',color=\"blue\")\n",
    "plt.xlabel('Entropy',fontsize=16)\n",
    "plt.ylabel(\"Number images\",fontsize=16)\n",
    "plt.xticks(fontsize=14)\n",
    "plt.yticks(fontsize=14)\n",
    "plt.subplot(3,1,2)\n",
    "plt.title(\"Histogram entropy: \"+ label2,fontsize=16)\n",
    "plt.hist(entropy_label2, bins='auto',color='red')\n",
    "plt.xlabel('Entropy',fontsize=16)\n",
    "plt.ylabel(\"Number images\",fontsize=16)\n",
    "plt.xticks(fontsize=14)\n",
    "plt.yticks(fontsize=14)\n",
    "plt.subplot(3,1,3)\n",
    "plt.title(\"Histogram entropy: \"+ label3,fontsize=16)\n",
    "plt.hist(entropy_label3, bins='auto',color='green')\n",
    "plt.xlabel('Entropy',fontsize=16)\n",
    "plt.ylabel(\"Number images\",fontsize=16)\n",
    "plt.xticks(fontsize=14)\n",
    "plt.yticks(fontsize=14)\n",
    "plt.show()\n",
    "plt.savefig('plot_2.png')\n"
   ]
  },
  {
   "cell_type": "code",
   "execution_count": null,
   "metadata": {},
   "outputs": [],
   "source": []
  }
 ],
 "metadata": {
  "kernelspec": {
   "display_name": "Python 3",
   "language": "python",
   "name": "python3"
  },
  "language_info": {
   "codemirror_mode": {
    "name": "ipython",
    "version": 3
   },
   "file_extension": ".py",
   "mimetype": "text/x-python",
   "name": "python",
   "nbconvert_exporter": "python",
   "pygments_lexer": "ipython3",
   "version": "3.6.7"
  }
 },
 "nbformat": 4,
 "nbformat_minor": 2
}
